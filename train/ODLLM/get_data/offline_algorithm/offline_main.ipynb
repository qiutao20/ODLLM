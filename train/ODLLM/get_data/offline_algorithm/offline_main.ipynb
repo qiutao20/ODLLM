{
 "cells": [
  {
   "cell_type": "code",
   "execution_count": 18,
   "id": "initial_id",
   "metadata": {
    "collapsed": true,
    "ExecuteTime": {
     "end_time": "2024-03-30T02:41:27.346764Z",
     "start_time": "2024-03-30T02:41:27.343293Z"
    }
   },
   "outputs": [],
   "source": []
  },
  {
   "cell_type": "code",
   "outputs": [],
   "source": [
    "import scipy.io\n",
    "import numpy as np\n",
    "import networkx as nx\n",
    "import cvxpy as cp\n",
    "def Get_NetInfo(T, N_node):\n",
    "    # 初始化路径矩阵K，大小为N_node x N_arc\n",
    "    N_arc = T.shape[0]\n",
    "    K = np.zeros((N_node, N_arc))\n",
    "\n",
    "    # 填充路径矩阵K\n",
    "    for i in range(N_node):\n",
    "        for j in range(N_arc):\n",
    "            if T[j, 0] == i:\n",
    "                K[i, j] = -1\n",
    "            if T[j, 1] == i:\n",
    "                K[i, j] = 1\n",
    "\n",
    "    return K\n",
    "\n",
    "# 示例用法：\n",
    "# 假设T是一个N_arc x 3的NumPy数组，其中每一行代表一个边，格式为[起点, 终点, 边权]\n",
    "# N_node是节点的数量\n",
    "# T = np.array([[1, 2, 1], [2, 3, 1], [3, 1, 1]])  # 示例网络边信息\n",
    "# N_node = 3  # 示例节点数量\n",
    "# K = Get_NetInfo(T, N_node)\n",
    "# print(K)\n",
    "\n",
    "import numpy as np\n",
    "from scipy.sparse import csr_matrix\n",
    "\n",
    "\n",
    "def get_V2Einfo(T, N_node):\n",
    "    # 网络预处理程序，得到 C:边权向量；K：路径矩阵；D：节点与边转换矩阵；A：邻接矩阵\n",
    "\n",
    "    N_arc = T.shape[0]\n",
    "\n",
    "    # 初始化稀疏矩阵\n",
    "    A = csr_matrix((N_node, N_node), dtype=int)\n",
    "    K = csr_matrix((N_node, N_arc), dtype=int)\n",
    "    D = csr_matrix((N_arc, N_node), dtype=int)\n",
    "    C = csr_matrix((N_arc, 1), dtype=int)\n",
    "\n",
    "    # 得到邻接矩阵A\n",
    "    for i in range(N_arc):\n",
    "        A[int(T[i, 0] - 1), int(T[i, 1] - 1)] = 1  # Python 索引从0开始，所以需要减1\n",
    "\n",
    "    # 得到路径矩阵K\n",
    "    for i in range(N_node):\n",
    "        for j in range(N_arc):\n",
    "            if T[j, 0] == i + 1:  # Python 索引从0开始，所以需要加1\n",
    "                K[i, j] = -1\n",
    "            if T[j, 1] == i + 1:  # Python 索引从0开始，所以需要加1\n",
    "                K[i, j] = 1\n",
    "\n",
    "    # 得到节点与边转换矩阵D\n",
    "    for i in range(N_arc):\n",
    "        D[i, int(T[i, 0] - 1)] = 1  # Python 索引从0开始，所以需要减1\n",
    "\n",
    "    # 得到边权向量C\n",
    "    for i in range(N_arc):\n",
    "        C[i, 0] = T[i, 2]\n",
    "\n",
    "    #return D, A, K, C\n",
    "    return D\n",
    "\n",
    "# 示例使用T和N_node的代码\n",
    "# 假设T是一个N_arc x 3的NumPy数组，其中每行包含三个元素（起点，终点，权重）\n",
    "# N_node是节点的数量\n",
    "# T = np.array([[1, 2, 10], [2, 3, 15], ...])  # 示例输入\n",
    "# D, A, K, C = get_V2Einfo(T, N_node)'''\n",
    "\n",
    "\n",
    "\n",
    "\n",
    "# Load data from .mat files\n",
    "congo_net = scipy.io.loadmat('CongoNet.mat')\n",
    "congo_net_node_location = scipy.io.loadmat('CongoNetNodeLocation.mat')\n",
    "\n",
    "N_arc = len(congo_net['CongoNet'][:,0])\n",
    "N_node = len(congo_net_node_location['CongoNetNodeLocation'][:,0])\n",
    "\n",
    "# Load parameters\n",
    "demand = scipy.io.loadmat('Demand.mat')\n",
    "h = scipy.io.loadmat('h.mat')\n",
    "\n",
    "n = len(demand['Demand'][0,:])  # t=1,2,...,n=222\n",
    "L = np.zeros((N_node, N_node))\n",
    "snode = congo_net['CongoNet'][:, 0]\n",
    "tnode = congo_net['CongoNet'][:, 1]\n",
    "weights = congo_net['CongoNet'][:, 2]\n",
    "h=h['h'][:,:]\n",
    "# Create digraph for CongoNet\n",
    "Gnet = nx.DiGraph()\n",
    "Gnet.add_weighted_edges_from(zip(snode, tnode, weights))\n",
    "L = nx.floyd_warshall_numpy(Gnet)\n",
    "\n",
    "q = 1*np.random.rand(N_arc, 1)\n",
    "\n",
    "Demand = demand['Demand'][:, :n]\n",
    "og = np.array(Demand, dtype='float32')\n",
    "og[og != 0] = 1\n",
    "ot = 107\n",
    "og[ot, :] = -1\n",
    "\n",
    "# Get NetInfo and V2Einfo\n",
    "K = Get_NetInfo(congo_net['CongoNet'], N_node)\n",
    "T = get_V2Einfo(congo_net['CongoNet'], N_node)\n",
    "c = congo_net['CongoNet'][:, 2]\n",
    "d = 1 + np.round(np.mean(c) * np.random.rand(N_arc, 1))\n",
    "\n",
    "w = np.sum(demand['Demand'], 1)\n",
    "\n",
    "N_I = np.zeros((n, 1))\n",
    "f = []\n",
    "a=np.sum(h,axis=0)"
   ],
   "metadata": {
    "collapsed": false,
    "ExecuteTime": {
     "end_time": "2024-03-30T02:41:33.923341Z",
     "start_time": "2024-03-30T02:41:27.358408Z"
    }
   },
   "id": "d2d6385863c924c7",
   "execution_count": 19
  },
  {
   "cell_type": "code",
   "outputs": [],
   "source": [
    "for t in range(n):\n",
    "    N_I[t,0] = a[t]\n",
    "    f.append(1 + np.round(3 * np.mean(c) * np.random.rand(int(N_I[t, 0]), 1)))\n",
    "a = []\n",
    "r = []\n",
    "x = []\n",
    "xoff = []\n",
    "\n",
    "# Multi-stage game\n",
    "p = [0,0]\n",
    "\n",
    "for t in range(n):\n",
    "    #print(t)\n",
    "    Z = cp.Variable((N_node, int(N_I[t, 0])), boolean=True)\n",
    "    Za = cp.Variable((N_arc, 1))\n",
    "    wi = cp.Variable((N_node, 1))\n",
    "    c=c.reshape(2188,1)\n",
    "    temp11=(Z.T @ (L @ h[:, t])).size\n",
    "    #print(temp11)\n",
    "    # Constraints\n",
    "    Cons = [K.T @ wi <= (c + cp.multiply(d , Za)), wi[0] == 0, Z.T @ np.ones((N_node,1)) <= 1, Z.T @ (L @ h[:, t]) <= f[t].reshape(temp11,),\n",
    "                   0 <= Z, Z <= 1, Za == T @ cp.sum(Z, axis=1,keepdims=True)]\n",
    "        # Objective\n",
    "    ut = og[:, t].T @ wi\n",
    "\n",
    "\n",
    "    # Solve\n",
    "    prob = cp.Problem(cp.Minimize(ut), Cons)\n",
    "    result = prob.solve()\n",
    "\n",
    "    a.append(ut.value)"
   ],
   "metadata": {
    "collapsed": false,
    "ExecuteTime": {
     "end_time": "2024-03-30T02:42:23.938035Z",
     "start_time": "2024-03-30T02:41:33.925485Z"
    }
   },
   "id": "a3b50ee9d91de89a",
   "execution_count": 20
  },
  {
   "cell_type": "code",
   "outputs": [],
   "source": [
    "f2=open('tosee/a.json', 'w',encoding = 'utf-8')\n",
    "for km in range(len(a)):\n",
    "    f2.write(str(a[km])+'\\n')\n",
    "f2.close()\n"
   ],
   "metadata": {
    "collapsed": false,
    "ExecuteTime": {
     "end_time": "2024-03-30T02:42:23.957081Z",
     "start_time": "2024-03-30T02:42:23.939075Z"
    }
   },
   "id": "210b817f8774ec58",
   "execution_count": 21
  },
  {
   "cell_type": "code",
   "outputs": [],
   "source": [],
   "metadata": {
    "collapsed": false,
    "ExecuteTime": {
     "end_time": "2024-03-30T02:42:23.961609Z",
     "start_time": "2024-03-30T02:42:23.959161Z"
    }
   },
   "id": "3d6b82e8db4a06f7",
   "execution_count": 21
  },
  {
   "cell_type": "code",
   "outputs": [],
   "source": [],
   "metadata": {
    "collapsed": false
   },
   "id": "b916a98af7f99c5b"
  }
 ],
 "metadata": {
  "kernelspec": {
   "display_name": "Python 3",
   "language": "python",
   "name": "python3"
  },
  "language_info": {
   "codemirror_mode": {
    "name": "ipython",
    "version": 2
   },
   "file_extension": ".py",
   "mimetype": "text/x-python",
   "name": "python",
   "nbconvert_exporter": "python",
   "pygments_lexer": "ipython2",
   "version": "2.7.6"
  }
 },
 "nbformat": 4,
 "nbformat_minor": 5
}
